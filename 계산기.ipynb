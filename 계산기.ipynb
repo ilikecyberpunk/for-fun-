{
 "cells": [
  {
   "cell_type": "code",
   "execution_count": null,
   "metadata": {},
   "outputs": [],
   "source": [
    "import math\n",
    "import tkinter as tk\n",
    "\n",
    "root = tk.Tk()\n",
    "root.title(\"계산기\")\n",
    "x = tk.Entry(root)\n",
    "x.grid(row= 0, column=0 )\n",
    "\n",
    "y = tk.Entry(root)\n",
    "y.grid(row = 0, column= 2)\n",
    "\n",
    "equal = tk.Label(root, text = '')\n",
    "equal.grid(row =0, column = 3)\n",
    "\n",
    "def ps():\n",
    "    result = int(x.get()) + int(y.get())\n",
    "    equal.config(text = f' = {str(result)}')\n",
    "\n",
    "plus = tk.Button(root, text = '+', command=p)\n",
    "plus.grid(row=0, column=1)\n",
    "\n",
    "def ms():\n",
    "    result = int(x.get()) - int(y.get())\n",
    "    equal.config(text = f' = {str(result)}')\n",
    "\n",
    "minus = tk.Button(root, text = '-', command=ms)\n",
    "minus.grid(row = 1, column=1)\n",
    "\n",
    "def ml():\n",
    "    result = int(x.get()) * int(y.get())\n",
    "    equal.config(text = f'= {str(result)}')\n",
    "\n",
    "mul = tk.Button(root, text = '*', command=ml)\n",
    "mul.grid(row = 2, column= 1)\n",
    "\n",
    "def dv():\n",
    "    result = int(x.get) // int(y.get)\n",
    "    equal.config(text = f'= {str(result)}')\n",
    "\n",
    "div = tk.Button(root, text = '/', command=dv)\n",
    "div.grid(row = 3, column=1)\n",
    "\n",
    "root.mainloop()\n"
   ]
  }
 ],
 "metadata": {
  "kernelspec": {
   "display_name": "Python 3",
   "language": "python",
   "name": "python3"
  },
  "language_info": {
   "name": "python",
   "version": "3.9.13"
  }
 },
 "nbformat": 4,
 "nbformat_minor": 2
}

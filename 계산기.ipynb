{
 "cells": [
  {
   "cell_type": "code",
   "execution_count": 1,
   "metadata": {},
   "outputs": [
    {
     "ename": "NameError",
     "evalue": "name 'p' is not defined",
     "output_type": "error",
     "traceback": [
      "\u001b[1;31m---------------------------------------------------------------------------\u001b[0m",
      "\u001b[1;31mNameError\u001b[0m                                 Traceback (most recent call last)",
      "Cell \u001b[1;32mIn[1], line 19\u001b[0m\n\u001b[0;32m     16\u001b[0m     result \u001b[38;5;241m=\u001b[39m \u001b[38;5;28mint\u001b[39m(x\u001b[38;5;241m.\u001b[39mget()) \u001b[38;5;241m+\u001b[39m \u001b[38;5;28mint\u001b[39m(y\u001b[38;5;241m.\u001b[39mget())\n\u001b[0;32m     17\u001b[0m     equal\u001b[38;5;241m.\u001b[39mconfig(text \u001b[38;5;241m=\u001b[39m \u001b[38;5;124mf\u001b[39m\u001b[38;5;124m'\u001b[39m\u001b[38;5;124m = \u001b[39m\u001b[38;5;132;01m{\u001b[39;00m\u001b[38;5;28mstr\u001b[39m(result)\u001b[38;5;132;01m}\u001b[39;00m\u001b[38;5;124m'\u001b[39m)\n\u001b[1;32m---> 19\u001b[0m plus \u001b[38;5;241m=\u001b[39m tk\u001b[38;5;241m.\u001b[39mButton(root, text \u001b[38;5;241m=\u001b[39m \u001b[38;5;124m'\u001b[39m\u001b[38;5;124m+\u001b[39m\u001b[38;5;124m'\u001b[39m, command\u001b[38;5;241m=\u001b[39m\u001b[43mp\u001b[49m)\n\u001b[0;32m     20\u001b[0m plus\u001b[38;5;241m.\u001b[39mgrid(row\u001b[38;5;241m=\u001b[39m\u001b[38;5;241m0\u001b[39m, column\u001b[38;5;241m=\u001b[39m\u001b[38;5;241m1\u001b[39m)\n\u001b[0;32m     22\u001b[0m \u001b[38;5;28;01mdef\u001b[39;00m \u001b[38;5;21mms\u001b[39m():\n",
      "\u001b[1;31mNameError\u001b[0m: name 'p' is not defined"
     ]
    }
   ],
   "source": [
    "import math\n",
    "import tkinter as tk\n",
    "\n",
    "root = tk.Tk()\n",
    "root.title(\"계산기\")\n",
    "x = tk.Entry(root)\n",
    "x.grid(row= 0, column=0 )\n",
    "\n",
    "y = tk.Entry(root)\n",
    "y.grid(row = 0, column= 2)\n",
    "\n",
    "equal = tk.Label(root, text = '')\n",
    "equal.grid(row =0, column = 3)\n",
    "\n",
    "def ps():\n",
    "    result = int(x.get()) + int(y.get())\n",
    "    equal.config(text = f' = {str(result)}')\n",
    "\n",
    "plus = tk.Button(root, text = '+', command=ps)\n",
    "plus.grid(row=0, column=1)\n",
    "\n",
    "def ms():\n",
    "    result = int(x.get()) - int(y.get())\n",
    "    equal.config(text = f' = {str(result)}')\n",
    "\n",
    "minus = tk.Button(root, text = '-', command=ms)\n",
    "minus.grid(row = 1, column=1)\n",
    "\n",
    "def ml():\n",
    "    result = int(x.get()) * int(y.get())\n",
    "    equal.config(text = f'= {str(result)}')\n",
    "\n",
    "mul = tk.Button(root, text = '*', command=ml)\n",
    "mul.grid(row = 2, column= 1)\n",
    "\n",
    "def dv():\n",
    "    result = int(x.get) // int(y.get)\n",
    "    equal.config(text = f'= {str(result)}')\n",
    "\n",
    "div = tk.Button(root, text = '/', command=dv)\n",
    "div.grid(row = 3, column=1)\n",
    "\n",
    "def se():\n",
    "    result = math.pow(float(x.get()), float(y.get()))\n",
    "    equal.config(text = f'={result}')\n",
    "\n",
    "square = tk.Button(root, text = '**', command = se)\n",
    "square.grid(row = 4, column = 1)\n",
    "\n",
    "root.mainloop()\n"
   ]
  }
 ],
 "metadata": {
  "kernelspec": {
   "display_name": "Python 3",
   "language": "python",
   "name": "python3"
  },
  "language_info": {
   "codemirror_mode": {
    "name": "ipython",
    "version": 3
   },
   "file_extension": ".py",
   "mimetype": "text/x-python",
   "name": "python",
   "nbconvert_exporter": "python",
   "pygments_lexer": "ipython3",
   "version": "3.9.13"
  }
 },
 "nbformat": 4,
 "nbformat_minor": 2
}

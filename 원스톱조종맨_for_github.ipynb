{
 "cells": [
  {
   "cell_type": "code",
   "execution_count": 2,
   "metadata": {},
   "outputs": [],
   "source": [
    "# 내 성적 조회하기 1980x1080기준\n",
    "import pyautogui\n",
    "from selenium import webdriver\n",
    "from selenium.webdriver.common.keys import Keys\n",
    "import time\n",
    "\n",
    "GG = webdriver.Chrome()\n",
    "GG.get('https://google.co.kr')\n",
    "GG.fullscreen_window()\n",
    "pyautogui.moveTo(959, 566)\n",
    "pyautogui.click()\n",
    "pyautogui.write(\"https://onestop.kumoh.ac.kr/html/WebcreaMDI-OneStop.jsp?v=20250104040145\")\n",
    "pyautogui.press('Enter')\n",
    "pyautogui.moveTo(175, 467, 0.25)\n",
    "pyautogui.doubleClick()\n",
    "time.sleep(10)\n",
    "pyautogui.moveTo(249, 583)\n",
    "pyautogui.click()\n",
    "pyautogui.write('아뒤')\n",
    "pyautogui.moveTo(320, 642)\n",
    "pyautogui.click()\n",
    "pyautogui.write('비번')\n",
    "pyautogui.moveTo(480, 618)\n",
    "pyautogui.click()\n",
    "time.sleep(7)\n",
    "pyautogui.moveTo(199, 460, 0.2)\n",
    "pyautogui.click()\n",
    "pyautogui.moveTo(208, 548, 0.2)\n",
    "pyautogui.click()\n",
    "pyautogui.moveTo(272, 737, 0.2)\n",
    "pyautogui.click()\n",
    "time.sleep(3)\n",
    "pyautogui.moveTo(546, 1169, 0.2)\n",
    "pyautogui.mouseDown()\n",
    "pyautogui.moveTo(1186, 1168, 0.2)\n",
    "pyautogui.mouseUp()\n",
    "pyautogui.moveTo(1139, 551)\n",
    "pyautogui.doubleClick()"
   ]
  },
  {
   "cell_type": "code",
   "execution_count": 66,
   "metadata": {},
   "outputs": [
    {
     "name": "stdout",
     "output_type": "stream",
     "text": [
      "Point(x=1186, y=1168)\n"
     ]
    }
   ],
   "source": [
    "print(pyautogui.position()) "
   ]
  },
  {
   "cell_type": "code",
   "execution_count": null,
   "metadata": {},
   "outputs": [],
   "source": [
    "# 1980x1080기준\n",
    "import pyautogui\n",
    "from selenium import webdriver\n",
    "from selenium.webdriver.common.keys import Keys\n",
    "import time\n",
    "\n",
    "GG = webdriver.Chrome()\n",
    "GG.get('https://google.co.kr')\n",
    "GG.fullscreen_window()\n",
    "pyautogui.moveTo(960, 540)  # 화면 중앙\n",
    "pyautogui.click()\n",
    "pyautogui.write(\"https://onestop.kumoh.ac.kr/html/WebcreaMDI-OneStop.jsp?v=20250104040145\")\n",
    "pyautogui.press('Enter')\n",
    "pyautogui.moveTo(170, 440, 0.25)  # 새로운 해상도에 맞춰 조정\n",
    "pyautogui.doubleClick()\n",
    "time.sleep(10)\n",
    "pyautogui.moveTo(250, 580)  # 새로운 해상도에 맞춰 조정\n",
    "pyautogui.click()\n",
    "pyautogui.write('아뒤')\n",
    "pyautogui.moveTo(320, 640)  # 새로운 해상도에 맞춰 조정\n",
    "pyautogui.click()\n",
    "pyautogui.write('비번')\n",
    "pyautogui.moveTo(480, 610)  # 새로운 해상도에 맞춰 조정\n",
    "pyautogui.click()\n",
    "time.sleep(7)\n",
    "pyautogui.moveTo(200, 460, 0.2)  # 새로운 해상도에 맞춰 조정\n",
    "pyautogui.click()\n",
    "pyautogui.moveTo(210, 550, 0.2)  # 새로운 해상도에 맞춰 조정\n",
    "pyautogui.click()\n",
    "pyautogui.moveTo(270, 730, 0.2)  # 새로운 해상도에 맞춰 조정\n",
    "pyautogui.click()\n",
    "time.sleep(3)\n",
    "pyautogui.moveTo(540, 1060, 0.2)  # 새로운 해상도에 맞춰 조정\n",
    "pyautogui.mouseDown()\n",
    "pyautogui.moveTo(1180, 1060, 0.2)  # 새로운 해상도에 맞춰 조정\n",
    "pyautogui.mouseUp()\n",
    "pyautogui.moveTo(1140, 550)  # 새로운 해상도에 맞춰 조정\n",
    "pyautogui.doubleClick()\n"
   ]
  }
 ],
 "metadata": {
  "kernelspec": {
   "display_name": "Python 3",
   "language": "python",
   "name": "python3"
  },
  "language_info": {
   "codemirror_mode": {
    "name": "ipython",
    "version": 3
   },
   "file_extension": ".py",
   "mimetype": "text/x-python",
   "name": "python",
   "nbconvert_exporter": "python",
   "pygments_lexer": "ipython3",
   "version": "3.9.13"
  }
 },
 "nbformat": 4,
 "nbformat_minor": 2
}

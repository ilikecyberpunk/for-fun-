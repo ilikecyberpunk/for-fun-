{
 "cells": [
  {
   "cell_type": "code",
   "execution_count": 1,
   "id": "bba66fc0",
   "metadata": {},
   "outputs": [
    {
     "name": "stdout",
     "output_type": "stream",
     "text": [
      "Collecting bs4\n",
      "  Downloading bs4-0.0.2-py2.py3-none-any.whl.metadata (411 bytes)\n",
      "Requirement already satisfied: beautifulsoup4 in c:\\users\\asus\\appdata\\local\\programs\\python\\python39\\lib\\site-packages (from bs4) (4.12.3)\n",
      "Requirement already satisfied: soupsieve>1.2 in c:\\users\\asus\\appdata\\local\\programs\\python\\python39\\lib\\site-packages (from beautifulsoup4->bs4) (2.5)\n",
      "Downloading bs4-0.0.2-py2.py3-none-any.whl (1.2 kB)\n",
      "Installing collected packages: bs4\n",
      "Successfully installed bs4-0.0.2\n",
      "Note: you may need to restart the kernel to use updated packages.\n"
     ]
    },
    {
     "name": "stderr",
     "output_type": "stream",
     "text": [
      "\n",
      "[notice] A new release of pip is available: 24.2 -> 25.0.1\n",
      "[notice] To update, run: python.exe -m pip install --upgrade pip\n"
     ]
    }
   ],
   "source": [
    "pip install bs4"
   ]
  },
  {
   "cell_type": "code",
   "execution_count": 1,
   "id": "4f04c3df",
   "metadata": {},
   "outputs": [],
   "source": [
    "import tkinter as tk\n",
    "from tkinter import messagebox\n",
    "import requests\n",
    "from bs4 import BeautifulSoup\n",
    "\n",
    "root = tk.Tk()\n",
    "root.title(\"날씨앱\")\n",
    "root.geometry(\"300x300\")\n",
    "\n",
    "def current_weather():\n",
    "    try:\n",
    "        url = \"https://search.naver.com/search.naver?query=날씨\"\n",
    "        res = requests.get(url)\n",
    "        soup = BeautifulSoup(res.text, \"html.parser\")\n",
    "        weather = soup.find(\"p\", class_=\"summary\").text\n",
    "        lb_weather.config(text = weather)\n",
    "    except Exception as e:\n",
    "        messagebox.showerror(\"인터넷 연결이나 위치정보를 확인하세요\", f\"{e}\")\n",
    "\n",
    "\n",
    "bt_weather = tk.Button(root, text =\"날씨확인\", command = current_weather).grid(row = 0, column = 0)\n",
    "lb_weather = tk.Label(root, text = \"\")\n",
    "lb_weather.grid(row = 0, column = 1)\n",
    "\n",
    "def current_temp():\n",
    "    try:\n",
    "        url = \"https://search.naver.com/search.naver?query=날씨\"\n",
    "        res = requests.get(url)\n",
    "        soup = BeautifulSoup(res.text, \"html.parser\")\n",
    "        temp = soup.find(\"div\", class_=\"temperature_text\").text\n",
    "        lb_temp.config(text= temp)\n",
    "    except Exception as e:\n",
    "        messagebox.showerror(\"인터넷 연결이나 위치정보를 확인하세요\", f\"{e}\")\n",
    "\n",
    "\n",
    "bt_temp = tk.Button(root, text = \"온도확인\", command = current_temp).grid(row = 1, column = 0)\n",
    "lb_temp = tk.Label(root, text = \"\")\n",
    "lb_temp.grid(row = 1, column = 1)\n",
    "\n",
    "\n",
    "\n",
    "\n",
    "root.mainloop()"
   ]
  },
  {
   "cell_type": "code",
   "execution_count": null,
   "id": "e11b141b",
   "metadata": {},
   "outputs": [],
   "source": []
  }
 ],
 "metadata": {
  "kernelspec": {
   "display_name": "Python 3",
   "language": "python",
   "name": "python3"
  },
  "language_info": {
   "codemirror_mode": {
    "name": "ipython",
    "version": 3
   },
   "file_extension": ".py",
   "mimetype": "text/x-python",
   "name": "python",
   "nbconvert_exporter": "python",
   "pygments_lexer": "ipython3",
   "version": "3.9.13"
  }
 },
 "nbformat": 4,
 "nbformat_minor": 5
}

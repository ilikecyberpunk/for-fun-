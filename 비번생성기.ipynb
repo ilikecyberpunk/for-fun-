{
 "cells": [
  {
   "cell_type": "code",
   "execution_count": 14,
   "id": "51b5ea9c",
   "metadata": {},
   "outputs": [],
   "source": [
    "import tkinter as tk\n",
    "import random\n",
    "from tkinter import messagebox\n",
    "\n",
    "root = tk.Tk()\n",
    "\n",
    "lb1 = tk.Label(root, text=\"설정하실 비밀번호의 길이를 입력하세요\").grid(row=0, column=0)\n",
    "\n",
    "et1 = tk.Entry(root)\n",
    "et1.grid(row=1, column=0)\n",
    "\n",
    "def save():\n",
    "    try:\n",
    "        lent = int(et1.get())  \n",
    "        if lent <= 0:\n",
    "            raise ValueError(\"길이는 1 이상이어야 합니다.\")\n",
    "        \n",
    "        num = [hex(random.randint(1, 17))[2:] for _ in range(lent)]\n",
    "    \n",
    "        password = ''.join(num)\n",
    "      \n",
    "        lb_result.config(text=password)\n",
    "    except ValueError as e:\n",
    "        messagebox.showerror(\"입력 오류\", f\"유효한 숫자를 입력하ㅅ요.\\n{e}\")\n",
    "\n",
    "bt1 = tk.Button(root, text=\"확인, 생성\", command=save).grid(row=1, column=1)\n",
    "\n",
    "lb_result = tk.Label(root, text=\"...\")\n",
    "lb_result.grid(row=3, column=0)\n",
    "\n",
    "root.mainloop()"
   ]
  }
 ],
 "metadata": {
  "kernelspec": {
   "display_name": "Python 3",
   "language": "python",
   "name": "python3"
  },
  "language_info": {
   "codemirror_mode": {
    "name": "ipython",
    "version": 3
   },
   "file_extension": ".py",
   "mimetype": "text/x-python",
   "name": "python",
   "nbconvert_exporter": "python",
   "pygments_lexer": "ipython3",
   "version": "3.9.13"
  }
 },
 "nbformat": 4,
 "nbformat_minor": 5
}

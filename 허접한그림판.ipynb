{
 "cells": [
  {
   "cell_type": "code",
   "execution_count": 8,
   "metadata": {},
   "outputs": [],
   "source": [
    "import tkinter as tk\n",
    "\n",
    "window = tk.Tk()\n",
    "window.title(\"그림판\")\n",
    "\n",
    "canvas = tk.Canvas(window, width=1920, height=1080)\n",
    "canvas.pack()\n",
    "\n",
    "def draw_circle(event):\n",
    "    x, y = event.x, event.y\n",
    "    canvas.create_oval(x - 1, y - 1, x + 1, y + 1)\n",
    "\n",
    "canvas.bind(\"<B1-Motion>\", draw_circle)\n",
    "\n",
    "window.mainloop()"
   ]
  }
 ],
 "metadata": {
  "kernelspec": {
   "display_name": "Python 3",
   "language": "python",
   "name": "python3"
  },
  "language_info": {
   "codemirror_mode": {
    "name": "ipython",
    "version": 3
   },
   "file_extension": ".py",
   "mimetype": "text/x-python",
   "name": "python",
   "nbconvert_exporter": "python",
   "pygments_lexer": "ipython3",
   "version": "3.9.13"
  }
 },
 "nbformat": 4,
 "nbformat_minor": 2
}

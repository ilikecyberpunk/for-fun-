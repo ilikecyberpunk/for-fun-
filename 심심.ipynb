{
 "cells": [
  {
   "cell_type": "code",
   "execution_count": null,
   "metadata": {},
   "outputs": [],
   "source": [
    "# 서버 소켓 세팅\n",
    "from socket import *\n",
    "\n",
    "server1 = socket(AF_INET, SOCK_STREAM) #(주소체계, 소켓타입 )\n",
    "server1.bind(('', 8080)) # 소켓과 AF라는 주소체계와 연결했다(?) 튜플인자가 어드레스 패밀리가 된거임, ( (ip, port) 형식으로 한 쌍으로 구성된 튜플이 어드레스 패밀리라는 거임) 8080번 포트에서 모든 인터페이스에 연결하도록 한다.?\n",
    "server1.listen(1) # listen한다 == 상대방의 접속을 기다린다. (1을 입력하면 단 한개만의 접속을 허용한다)\n",
    "\n",
    "connection_sock, addr = server1.accept() # 접속수락 통신하려면 ? accapt --> 소켓에 누군가 접속하여 연결되었을 때 결과값이 리턴되는 함수임\n",
    "\n"
   ]
  },
  {
   "cell_type": "code",
   "execution_count": null,
   "metadata": {},
   "outputs": [],
   "source": [
    "# 클라이언트 소켓 세팅\n",
    "from socket import *\n",
    "server2 = socket(AF_INET, SOCK_STREAM)\n",
    "server2.connect(('127.0.0.1', 8080)) # connect만 실행하면 클라이언트에서 서버에 접속 가능\n",
    "                                     # 여기서도 어드레스 패밀리가 인자로 들어가고, 호스트 주소와 포트번호로 구성된 튜플이 요구됨 ㅇ\n"
   ]
  },
  {
   "cell_type": "code",
   "execution_count": null,
   "metadata": {},
   "outputs": [],
   "source": [
    "# 소켓 수송신\n",
    "msg = 'ㅎㅇ'\n",
    "connection_sock.send(msg, encode('utf-8')) # encode는 문자열을 byte로 변환함, 문자열은 파이썬에서 생성된 객체이고, 이를 바로 트랜스포트에 싣는 것은 불가능해서 인코딩을 해야함\n",
    "\n",
    "# 메세지 확인\n",
    "msg = connection_sock.recv(1024)  # recv를 실행하면 소켓에 메세지가 수신될 때까지 파이썬 코드는 대기함. 인자는 1024바이트 만큼 가져오겠단 소리임임\n",
    "print(msg.decode('utf-8'))"
   ]
  },
  {
   "cell_type": "code",
   "execution_count": null,
   "metadata": {},
   "outputs": [
    {
     "ename": "ConnectionRefusedError",
     "evalue": "[WinError 10061] 대상 컴퓨터에서 연결을 거부했으므로 연결하지 못했습니다",
     "output_type": "error",
     "traceback": [
      "\u001b[1;31m---------------------------------------------------------------------------\u001b[0m",
      "\u001b[1;31mConnectionRefusedError\u001b[0m                    Traceback (most recent call last)",
      "Cell \u001b[1;32mIn[2], line 5\u001b[0m\n\u001b[0;32m      2\u001b[0m \u001b[38;5;28;01mfrom\u001b[39;00m \u001b[38;5;21;01msocket\u001b[39;00m \u001b[38;5;28;01mimport\u001b[39;00m \u001b[38;5;241m*\u001b[39m\n\u001b[0;32m      4\u001b[0m clientsock \u001b[38;5;241m=\u001b[39m socket(AF_INET, SOCK_STREAM)\n\u001b[1;32m----> 5\u001b[0m \u001b[43mclientsock\u001b[49m\u001b[38;5;241;43m.\u001b[39;49m\u001b[43mconnect\u001b[49m\u001b[43m(\u001b[49m\u001b[43m(\u001b[49m\u001b[38;5;124;43m'\u001b[39;49m\u001b[38;5;124;43m127.0.0.1\u001b[39;49m\u001b[38;5;124;43m'\u001b[39;49m\u001b[43m,\u001b[49m\u001b[43m \u001b[49m\u001b[38;5;241;43m8080\u001b[39;49m\u001b[43m)\u001b[49m\u001b[43m)\u001b[49m\n\u001b[0;32m      6\u001b[0m \u001b[38;5;28mprint\u001b[39m(\u001b[38;5;124m'\u001b[39m\u001b[38;5;124m연결 확인 됐습니다.\u001b[39m\u001b[38;5;124m'\u001b[39m)\n\u001b[0;32m      7\u001b[0m clientsock\u001b[38;5;241m.\u001b[39msend(\u001b[38;5;124m\"\u001b[39m\u001b[38;5;124m내가 클라이언트다\u001b[39m\u001b[38;5;124m\"\u001b[39m\u001b[38;5;241m.\u001b[39mencode(\u001b[38;5;124m\"\u001b[39m\u001b[38;5;124mutf-8\u001b[39m\u001b[38;5;124m\"\u001b[39m))\n",
      "\u001b[1;31mConnectionRefusedError\u001b[0m: [WinError 10061] 대상 컴퓨터에서 연결을 거부했으므로 연결하지 못했습니다"
     ]
    }
   ],
   "source": [
    "# 샘플\n",
    "\n",
    "from socket import *\n",
    "\n",
    "clientsock = socket(AF_INET, SOCK_STREAM)\n",
    "clientsock.connect(('127.0.0.1', 8080))\n",
    "print('연결 확인 됐습니다.')\n",
    "clientsock.send(\"내가 클라이언트다\".encode(\"utf-8\"))\n",
    "\n",
    "data = clientsock.recv(1024)\n",
    "print('받은 데이터 : ', data.encode('utf-8'))"
   ]
  }
 ],
 "metadata": {
  "kernelspec": {
   "display_name": "Python 3",
   "language": "python",
   "name": "python3"
  },
  "language_info": {
   "codemirror_mode": {
    "name": "ipython",
    "version": 3
   },
   "file_extension": ".py",
   "mimetype": "text/x-python",
   "name": "python",
   "nbconvert_exporter": "python",
   "pygments_lexer": "ipython3",
   "version": "3.9.13"
  }
 },
 "nbformat": 4,
 "nbformat_minor": 2
}

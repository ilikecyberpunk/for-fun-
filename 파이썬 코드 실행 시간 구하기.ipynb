{
 "cells": [
  {
   "cell_type": "code",
   "execution_count": 4,
   "metadata": {},
   "outputs": [],
   "source": [
    "import tkinter as tk\n",
    "import time\n",
    "from tkinter import messagebox\n",
    "\n",
    "rt = tk.Tk()\n",
    "rt.title(\"파이썬 코드 실행 시간 구하기\")\n",
    "\n",
    "label1 = tk.Label(rt, text=\"코드 입력하기\")\n",
    "label1.grid(row=0, column=0, padx=10, pady=10)\n",
    "\n",
    "text_code = tk.Text(rt, height=10, width=50)\n",
    "text_code.grid(row=1, column=0, columnspan=2, padx=10, pady=10)\n",
    "\n",
    "def ang():\n",
    "    code = text_code.get(\"1.0\", tk.END)\n",
    "    try:\n",
    "        start = time.time()\n",
    "        exec(code)\n",
    "        end = time.time()\n",
    "        result = end - start\n",
    "        label_result.config(text=f\"{result:.6f}초 입니다.\")\n",
    "    except Exception as e:\n",
    "        messagebox.showerror(\"오류\", f\"{e}\")\n",
    "\n",
    "a = tk.Button(rt, text=\"실행 !!\", command=ang)\n",
    "a.grid(row=2, column=0, columnspan=2, pady=10)\n",
    "\n",
    "label_result = tk.Label(rt, text=\"\")\n",
    "label_result.grid(row=3, column=0, columnspan=2, pady=10)\n",
    "\n",
    "rt.mainloop()"
   ]
  },
  {
   "cell_type": "code",
   "execution_count": null,
   "metadata": {},
   "outputs": [],
   "source": []
  }
 ],
 "metadata": {
  "kernelspec": {
   "display_name": "Python 3",
   "language": "python",
   "name": "python3"
  },
  "language_info": {
   "codemirror_mode": {
    "name": "ipython",
    "version": 3
   },
   "file_extension": ".py",
   "mimetype": "text/x-python",
   "name": "python",
   "nbconvert_exporter": "python",
   "pygments_lexer": "ipython3",
   "version": "3.9.13"
  }
 },
 "nbformat": 4,
 "nbformat_minor": 2
}

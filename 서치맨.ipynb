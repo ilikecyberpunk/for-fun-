{
 "cells": [
  {
   "cell_type": "code",
   "execution_count": null,
   "metadata": {},
   "outputs": [],
   "source": [
    "import tkinter as tk\n",
    "from selenium import webdriver\n",
    "from selenium.webdriver.common.keys import Keys\n",
    "from bs4 import BeautifulSoup as bs\n",
    "import requests\n",
    "\n",
    "root = tk.Tk()\n",
    "root.geometry(\"600x600\")\n",
    "root.title('google search')\n",
    "\n",
    "label1 = tk.Label(root, text = \"G\", fg = \"blue\", font=(\"Helvetica\", 20)).grid(row = 0, column = 0)\n",
    "lebel2 = tk.Label(root, text = \"o\", fg = \"red\", font=(\"Helvetica\", 20)).grid(row = 0, column= 1)\n",
    "label3 = tk.Label(root, text = \"o\", fg = \"yellow\", font=(\"Helvetica\", 20)).grid(row = 0, column = 2)\n",
    "label4 = tk.Label(root, text = \"g\", fg = \"blue\", font=(\"Helvetica\", 20)).grid(row = 0, column = 3)\n",
    "label5 = tk.Label(root, text = \"l\", fg = \"green\", font=(\"Helvetica\", 20)).grid(row = 0, column = 4)\n",
    "label6 = tk.Label(root, text = \"e\", fg = \"red\", font=(\"Helvetica\", 20)).grid(row = 0, column = 5)\n",
    "\n",
    "entry_for_google = tk.Entry(root)\n",
    "entry_for_google.grid(row = 0, column = 6)\n",
    "\n",
    "label_for_result = tk.Label(root, text = \"\").grid(row = 1, column = 0)\n",
    "\n",
    "def search_google():\n",
    "    url = 'https://www.google.com/search?q=' + entry_for_google.get() \n",
    "    r = requests.get(url)\n",
    "    html_text = r.text\n",
    "\n",
    "    result_text = label_for_result.get(\"text\")\n",
    "    new_result_text = \"\"\n",
    "\n",
    "    soup = bs(html_text, 'html.parser')\n",
    "    ss = soup.select(\"div.BNeawe.vvjwJb.AP7Wnd\")\n",
    "    for i in ss:\n",
    "        \n",
    "\n",
    "\n",
    "\n",
    "\n",
    "\n",
    "button_for_google = tk.Entry(root, text = \"search\", command = search_google).grid(row = 0, column = 7)\n",
    "\n",
    "root.mainloop()\n",
    "\n"
   ]
  }
 ],
 "metadata": {
  "kernelspec": {
   "display_name": "Python 3",
   "language": "python",
   "name": "python3"
  },
  "language_info": {
   "codemirror_mode": {
    "name": "ipython",
    "version": 3
   },
   "file_extension": ".py",
   "mimetype": "text/x-python",
   "name": "python",
   "nbconvert_exporter": "python",
   "pygments_lexer": "ipython3",
   "version": "3.9.13"
  }
 },
 "nbformat": 4,
 "nbformat_minor": 2
}

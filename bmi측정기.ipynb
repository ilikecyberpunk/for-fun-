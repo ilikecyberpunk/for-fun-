{
 "cells": [
  {
   "cell_type": "code",
   "execution_count": null,
   "metadata": {},
   "outputs": [],
   "source": [
    "import tkinter as tk\n",
    "import tkinter.messagebox as msgbox\n",
    "\n",
    "\n",
    "root = tk.Tk()\n",
    "root.title(\"bmi측정기\")\n",
    "\n",
    "label1 = tk.Label(root, text = \"몸무게 입력\")\n",
    "label1.grid(row = 0, column = 0)\n",
    "\n",
    "entry1 = tk.Entry(root)\n",
    "entry1.grid(row = 0, column = 1)\n",
    "\n",
    "label2 = tk.Label(root, text = \"키 입력\")\n",
    "label2.grid(row = 1, column = 0)\n",
    "\n",
    "entry2 = tk.Entry(root)\n",
    "entry2.grid(row = 1, column = 1)\n",
    "\n",
    "def cal():\n",
    "    data1 = float(entry1.get())\n",
    "    data2 = float(entry2.get())\n",
    "    result = data1/(data2*data2)\n",
    "    if result < 18.5 :\n",
    "        msgbox.showinfo(\"더 먹어요\", \"저체중입니다\")\n",
    "    elif result >= 18.5 & result <= 22.9 :\n",
    "        msgbox.showinfo(\"오~\", \"정상입니다\")\n",
    "    elif result \n",
    "        \n",
    "\n",
    "button1 = tk.button(root, text = \"레고\", command = cal)\n",
    "\n",
    "root.mainloop()"
   ]
  }
 ],
 "metadata": {
  "kernelspec": {
   "display_name": "Python 3",
   "language": "python",
   "name": "python3"
  },
  "language_info": {
   "codemirror_mode": {
    "name": "ipython",
    "version": 3
   },
   "file_extension": ".py",
   "mimetype": "text/x-python",
   "name": "python",
   "nbconvert_exporter": "python",
   "pygments_lexer": "ipython3",
   "version": "3.9.13"
  }
 },
 "nbformat": 4,
 "nbformat_minor": 2
}

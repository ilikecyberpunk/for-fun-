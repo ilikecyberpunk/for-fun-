{
 "cells": [
  {
   "cell_type": "code",
   "execution_count": 9,
   "metadata": {},
   "outputs": [],
   "source": [
    "# 시저암호\n",
    "import tkinter as tk\n",
    "from tkinter import messagebox\n",
    "\n",
    "root = tk.Tk()\n",
    "root.title(\"암호 해석 \")\n",
    "\n",
    "entry_plain = tk.Entry(root)\n",
    "entry_plain.grid(row=0, column=0)\n",
    "\n",
    "label_result1 = tk.Label(root, text=\" . . . \")\n",
    "label_result1.grid(row=1, column=0)\n",
    "\n",
    "def cipher():\n",
    "    try:\n",
    "        result = []\n",
    "        content = list(entry_plain.get())\n",
    "        for i in range(len(content)):  \n",
    "            if content[i].isalpha():  \n",
    "                if content[i].islower():\n",
    "                    result.append(chr((ord(content[i]) - 97 + 3) % 26 + 97))  \n",
    "                elif content[i].isupper():\n",
    "                    result.append(chr((ord(content[i]) - 65 + 3) % 26 + 65)) \n",
    "            else:\n",
    "                result.append(content[i])  \n",
    "        label_result1.config(text=\"\".join(result))\n",
    "    except Exception as e:\n",
    "        messagebox.showerror(\"오류\", f\"{e}\")\n",
    "\n",
    "button_plain = tk.Button(root, text=\"시저 암호로 변환하기\", command=cipher)\n",
    "button_plain.grid(row=0, column=1)\n",
    "\n",
    "def decipher():\n",
    "    try:\n",
    "        result = []\n",
    "        content = list(entry_plain.get())\n",
    "        for i in range(len(content)):  \n",
    "            if content[i].isalpha():  \n",
    "                if content[i].islower():\n",
    "                    result.append(chr((ord(content[i]) - 97 - 3) % 26 + 97)) \n",
    "                elif content[i].isupper():\n",
    "                    result.append(chr((ord(content[i]) - 65 - 3) % 26 + 65))  \n",
    "            else:\n",
    "                result.append(content[i])  \n",
    "        label_result1.config(text=\"\".join(result))\n",
    "    except Exception as e:\n",
    "        messagebox.showerror(\"오류\", f\"{e}\")\n",
    "\n",
    "button_decipher = tk.Button(root, text=\"시저 암호 해석하기\", command=decipher)\n",
    "button_decipher.grid(row=0, column=2)\n",
    "\n",
    "root.mainloop()"
   ]
  },
  {
   "cell_type": "code",
   "execution_count": null,
   "metadata": {},
   "outputs": [
    {
     "name": "stdout",
     "output_type": "stream",
     "text": [
      "hello\n"
     ]
    }
   ],
   "source": []
  },
  {
   "cell_type": "code",
   "execution_count": null,
   "metadata": {},
   "outputs": [
    {
     "name": "stdout",
     "output_type": "stream",
     "text": [
      "97\n",
      "98\n"
     ]
    }
   ],
   "source": []
  }
 ],
 "metadata": {
  "kernelspec": {
   "display_name": "Python 3",
   "language": "python",
   "name": "python3"
  },
  "language_info": {
   "codemirror_mode": {
    "name": "ipython",
    "version": 3
   },
   "file_extension": ".py",
   "mimetype": "text/x-python",
   "name": "python",
   "nbconvert_exporter": "python",
   "pygments_lexer": "ipython3",
   "version": "3.9.13"
  }
 },
 "nbformat": 4,
 "nbformat_minor": 2
}
